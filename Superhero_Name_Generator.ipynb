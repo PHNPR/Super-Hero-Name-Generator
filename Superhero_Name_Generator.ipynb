{
  "cells": [
    {
      "cell_type": "markdown",
      "metadata": {
        "id": "21XXWP7Fpt2L"
      },
      "source": [
        "# Superhero Name Generator"
      ]
    },
    {
      "cell_type": "markdown",
      "metadata": {
        "id": "H6P0NU5Cpt2R"
      },
      "source": [
        "Importing the data and creating a tokenizer"
      ]
    },
    {
      "cell_type": "code",
      "execution_count": 1,
      "metadata": {
        "colab": {
          "base_uri": "https://localhost:8080/",
          "height": 35
        },
        "id": "uq4CLmsLpt2P",
        "outputId": "b240ebe3-b1f8-4361-90f3-6bc450a0a4fc"
      },
      "outputs": [
        {
          "name": "stdout",
          "output_type": "stream",
          "text": [
            "Done\n"
          ]
        }
      ],
      "source": [
        "import numpy as np\n",
        "from matplotlib import pyplot as plt\n",
        "from sklearn.model_selection import train_test_split\n",
        "print('Done')"
      ]
    },
    {
      "cell_type": "code",
      "execution_count": 2,
      "metadata": {},
      "outputs": [
        {
          "name": "stdout",
          "output_type": "stream",
          "text": [
            "Done\n"
          ]
        }
      ],
      "source": [
        "from keras.preprocessing.text import Tokenizer\n",
        "from keras_preprocessing.sequence import pad_sequences\n",
        "from keras.callbacks import EarlyStopping \n",
        "from keras.models import Sequential\n",
        "from keras.layers import Embedding , Conv1D , MaxPool1D , LSTM , Dense\n",
        "print('Done')"
      ]
    },
    {
      "cell_type": "code",
      "execution_count": 3,
      "metadata": {
        "colab": {
          "base_uri": "https://localhost:8080/",
          "height": 35
        },
        "id": "JqhtLuAHpt2R",
        "outputId": "23825e8d-2be9-4989-fe34-9afe5ab5d108"
      },
      "outputs": [
        {
          "name": "stdout",
          "output_type": "stream",
          "text": [
            "jumpa\t\n",
            "doctor fate\t\n",
            "starlight\t\n",
            "isildur\t\n",
            "lasher\t\n",
            "varvara\t\n",
            "the target\t\n",
            "axel\t\n",
            "battra\t\n",
            "changeling\t\n",
            "pyrrh\n"
          ]
        }
      ],
      "source": [
        "with open( 'C:/Users/HP/Downloads/GitHub/Super-Hero-Name-Generator/Names.txt' , 'r') as file :\n",
        "    data = file.read()\n",
        "\n",
        "print(data[:100])"
      ]
    },
    {
      "cell_type": "code",
      "execution_count": 4,
      "metadata": {
        "id": "95Lo1Yqzpt2T"
      },
      "outputs": [],
      "source": [
        "tokenizer = Tokenizer( filters='!\"#$%&()*+,-./:;<=>?@[\\\\]^_`{|}~' , split='\\n' )"
      ]
    },
    {
      "cell_type": "code",
      "execution_count": 5,
      "metadata": {
        "id": "qYfC4sj2pt2V"
      },
      "outputs": [],
      "source": [
        "tokenizer.fit_on_texts(data)"
      ]
    },
    {
      "cell_type": "code",
      "execution_count": 6,
      "metadata": {
        "colab": {
          "base_uri": "https://localhost:8080/"
        },
        "id": "EO4-dPM6pt2X",
        "outputId": "f6a3566f-e008-4c35-a110-88e2f8bf3417"
      },
      "outputs": [
        {
          "data": {
            "text/plain": [
              "{1: '\\t',\n",
              " 2: 'a',\n",
              " 3: 'e',\n",
              " 4: 'r',\n",
              " 5: 'o',\n",
              " 6: 'n',\n",
              " 7: 'i',\n",
              " 8: ' ',\n",
              " 9: 't',\n",
              " 10: 's',\n",
              " 11: 'l',\n",
              " 12: 'm',\n",
              " 13: 'h',\n",
              " 14: 'd',\n",
              " 15: 'c',\n",
              " 16: 'u',\n",
              " 17: 'g',\n",
              " 18: 'k',\n",
              " 19: 'b',\n",
              " 20: 'p',\n",
              " 21: 'y',\n",
              " 22: 'w',\n",
              " 23: 'f',\n",
              " 24: 'v',\n",
              " 25: 'j',\n",
              " 26: 'z',\n",
              " 27: 'x',\n",
              " 28: 'q'}"
            ]
          },
          "execution_count": 6,
          "metadata": {},
          "output_type": "execute_result"
        }
      ],
      "source": [
        "char_to_index = tokenizer.word_index\n",
        "index_to_char = dict((value , key) for key , value in char_to_index.items())\n",
        "\n",
        "index_to_char"
      ]
    },
    {
      "cell_type": "markdown",
      "metadata": {
        "id": "SMwtIw_Bpt2Z"
      },
      "source": [
        "## Converting between names and sequences"
      ]
    },
    {
      "cell_type": "code",
      "execution_count": 7,
      "metadata": {
        "colab": {
          "base_uri": "https://localhost:8080/"
        },
        "id": "N7iQLIXzpt2a",
        "outputId": "ea4c530b-165d-4d1d-9e16-d9846a7ddd25"
      },
      "outputs": [
        {
          "data": {
            "text/plain": [
              "['jumpa\\t',\n",
              " 'doctor fate\\t',\n",
              " 'starlight\\t',\n",
              " 'isildur\\t',\n",
              " 'lasher\\t',\n",
              " 'varvara\\t',\n",
              " 'the target\\t',\n",
              " 'axel\\t',\n",
              " 'battra\\t',\n",
              " 'changeling\\t']"
            ]
          },
          "execution_count": 7,
          "metadata": {},
          "output_type": "execute_result"
        }
      ],
      "source": [
        "names = data.splitlines()\n",
        "names[:10]"
      ]
    },
    {
      "cell_type": "code",
      "execution_count": 8,
      "metadata": {
        "colab": {
          "base_uri": "https://localhost:8080/"
        },
        "id": "n_-TTfqipt2c",
        "outputId": "7e886014-3dff-406c-c000-9139e13f2a62"
      },
      "outputs": [
        {
          "data": {
            "text/plain": [
              "[[25], [16], [12], [20], [2], [1]]"
            ]
          },
          "execution_count": 8,
          "metadata": {},
          "output_type": "execute_result"
        }
      ],
      "source": [
        "tokenizer.texts_to_sequences(names[0])"
      ]
    },
    {
      "cell_type": "code",
      "execution_count": 9,
      "metadata": {
        "id": "P6IsKH1Upt2e"
      },
      "outputs": [],
      "source": [
        "def name_to_seq(name):\n",
        "    return [tokenizer.texts_to_sequences(c)[0][0] for c in name]"
      ]
    },
    {
      "cell_type": "code",
      "execution_count": 10,
      "metadata": {
        "colab": {
          "base_uri": "https://localhost:8080/"
        },
        "id": "TuLUiMP3pt2g",
        "outputId": "0f9e6522-1642-493c-9db4-6b5672986275"
      },
      "outputs": [
        {
          "data": {
            "text/plain": [
              "[25, 16, 12, 20, 2, 1]"
            ]
          },
          "execution_count": 10,
          "metadata": {},
          "output_type": "execute_result"
        }
      ],
      "source": [
        "name_to_seq(names[0])"
      ]
    },
    {
      "cell_type": "code",
      "execution_count": 11,
      "metadata": {
        "id": "yFUYhimKpt2h"
      },
      "outputs": [],
      "source": [
        "def seq_to_name(seq):\n",
        "    return ''.join([index_to_char[i] for i in seq if i != 0])"
      ]
    },
    {
      "cell_type": "code",
      "execution_count": 12,
      "metadata": {
        "colab": {
          "base_uri": "https://localhost:8080/",
          "height": 35
        },
        "id": "o21y7uSDxhPj",
        "outputId": "0ffebbba-a435-4f2f-d592-2f4d3f433ef6"
      },
      "outputs": [
        {
          "data": {
            "text/plain": [
              "'jumpa\\t'"
            ]
          },
          "execution_count": 12,
          "metadata": {},
          "output_type": "execute_result"
        }
      ],
      "source": [
        "seq_to_name(name_to_seq(names[0]))"
      ]
    },
    {
      "cell_type": "markdown",
      "metadata": {
        "id": "uCbAzsNjpt2m"
      },
      "source": [
        "## Creating sequences and padding all sequences"
      ]
    },
    {
      "cell_type": "code",
      "execution_count": 13,
      "metadata": {
        "id": "zstNn-0dpt2m"
      },
      "outputs": [],
      "source": [
        "sequences = []\n",
        "\n",
        "for name in names :\n",
        "    seq = name_to_seq(name)\n",
        "    if len(seq) >= 2 :\n",
        "        sequences += [seq[:i] for i in range(2 , len(seq) + 1)]"
      ]
    },
    {
      "cell_type": "code",
      "execution_count": 14,
      "metadata": {
        "colab": {
          "base_uri": "https://localhost:8080/"
        },
        "id": "BjRTMysvpt2o",
        "outputId": "456229f1-02ff-4969-a3b2-63a70556212d"
      },
      "outputs": [
        {
          "data": {
            "text/plain": [
              "[[25, 16],\n",
              " [25, 16, 12],\n",
              " [25, 16, 12, 20],\n",
              " [25, 16, 12, 20, 2],\n",
              " [25, 16, 12, 20, 2, 1],\n",
              " [14, 5],\n",
              " [14, 5, 15],\n",
              " [14, 5, 15, 9],\n",
              " [14, 5, 15, 9, 5],\n",
              " [14, 5, 15, 9, 5, 4]]"
            ]
          },
          "execution_count": 14,
          "metadata": {},
          "output_type": "execute_result"
        }
      ],
      "source": [
        "sequences[:10]"
      ]
    },
    {
      "cell_type": "code",
      "execution_count": 15,
      "metadata": {
        "colab": {
          "base_uri": "https://localhost:8080/"
        },
        "id": "SR68pu2tpt2q",
        "outputId": "11e8d3f0-44e2-4dfe-b07b-0cfef05a822a"
      },
      "outputs": [
        {
          "data": {
            "text/plain": [
              "33"
            ]
          },
          "execution_count": 15,
          "metadata": {},
          "output_type": "execute_result"
        }
      ],
      "source": [
        "max_len = max([len(x) for x in sequences])\n",
        "max_len"
      ]
    },
    {
      "cell_type": "code",
      "execution_count": 16,
      "metadata": {
        "colab": {
          "base_uri": "https://localhost:8080/"
        },
        "id": "h_1BtWO7pt2r",
        "outputId": "8d4e9021-051e-4d07-bee9-ce6f75e2701f"
      },
      "outputs": [
        {
          "data": {
            "text/plain": [
              "array([ 0,  0,  0,  0,  0,  0,  0,  0,  0,  0,  0,  0,  0,  0,  0,  0,  0,\n",
              "        0,  0,  0,  0,  0,  0,  0,  0,  0,  0,  0,  0,  0,  0, 25, 16])"
            ]
          },
          "execution_count": 16,
          "metadata": {},
          "output_type": "execute_result"
        }
      ],
      "source": [
        "padded_sequences = pad_sequences( sequences , padding = 'pre' , maxlen = max_len )\n",
        "\n",
        "padded_sequences[0]"
      ]
    },
    {
      "cell_type": "code",
      "execution_count": 17,
      "metadata": {
        "colab": {
          "base_uri": "https://localhost:8080/"
        },
        "id": "sPlrLRpSpt2t",
        "outputId": "4d67406d-4f80-4310-ed6d-a32e24822cf4"
      },
      "outputs": [
        {
          "data": {
            "text/plain": [
              "(88278, 33)"
            ]
          },
          "execution_count": 17,
          "metadata": {},
          "output_type": "execute_result"
        }
      ],
      "source": [
        "padded_sequences.shape"
      ]
    },
    {
      "cell_type": "markdown",
      "metadata": {
        "id": "Dqph3kRFs7fY"
      },
      "source": [
        "## Creating Training and Test Sets"
      ]
    },
    {
      "cell_type": "code",
      "execution_count": 18,
      "metadata": {
        "colab": {
          "base_uri": "https://localhost:8080/"
        },
        "id": "BE4BIeSnpt2v",
        "outputId": "7a14a664-591b-4565-a16e-40363fd08861"
      },
      "outputs": [
        {
          "data": {
            "text/plain": [
              "[(88278, 32), (88278,)]"
            ]
          },
          "execution_count": 18,
          "metadata": {},
          "output_type": "execute_result"
        }
      ],
      "source": [
        "x , y = padded_sequences[:,:-1] , padded_sequences[:,-1]\n",
        "[x.shape , y.shape]"
      ]
    },
    {
      "cell_type": "code",
      "execution_count": 19,
      "metadata": {
        "colab": {
          "base_uri": "https://localhost:8080/"
        },
        "id": "q_9B5HKFs7fZ",
        "outputId": "fb2ebda2-01fd-431c-a533-1bb72a5ee428"
      },
      "outputs": [
        {
          "data": {
            "text/plain": [
              "[(70622, 32), (70622,), (17656, 32), (17656,)]"
            ]
          },
          "execution_count": 19,
          "metadata": {},
          "output_type": "execute_result"
        }
      ],
      "source": [
        "X_train , X_test , Y_train , Y_test = train_test_split(x , y , train_size= 0.8 , random_state= 4)\n",
        "\n",
        "[X_train.shape,Y_train.shape,X_test.shape,Y_test.shape]"
      ]
    },
    {
      "cell_type": "code",
      "execution_count": 20,
      "metadata": {
        "colab": {
          "base_uri": "https://localhost:8080/"
        },
        "id": "cgqRZtqnpt2x",
        "outputId": "5b55cb0b-1b3c-454b-91af-2ba1a91141b8"
      },
      "outputs": [
        {
          "data": {
            "text/plain": [
              "29"
            ]
          },
          "execution_count": 20,
          "metadata": {},
          "output_type": "execute_result"
        }
      ],
      "source": [
        "num_chars = len(char_to_index.keys()) + 1\n",
        "num_chars"
      ]
    },
    {
      "cell_type": "markdown",
      "metadata": {
        "id": "9qN3gIoys7fZ"
      },
      "source": [
        "## Model Creating"
      ]
    },
    {
      "cell_type": "code",
      "execution_count": 21,
      "metadata": {
        "colab": {
          "base_uri": "https://localhost:8080/"
        },
        "id": "IYkyHBTbs7fZ",
        "outputId": "c32c20d0-a801-4dfe-b2a9-a66adad4b406"
      },
      "outputs": [
        {
          "name": "stdout",
          "output_type": "stream",
          "text": [
            "Model: \"sequential\"\n",
            "_________________________________________________________________\n",
            " Layer (type)                Output Shape              Param #   \n",
            "=================================================================\n",
            " embedding (Embedding)       (None, 32, 8)             232       \n",
            "                                                                 \n",
            " conv1d (Conv1D)             (None, 32, 64)            2624      \n",
            "                                                                 \n",
            " max_pooling1d (MaxPooling1D  (None, 16, 64)           0         \n",
            " )                                                               \n",
            "                                                                 \n",
            " lstm (LSTM)                 (None, 32)                12416     \n",
            "                                                                 \n",
            " dense (Dense)               (None, 29)                957       \n",
            "                                                                 \n",
            "=================================================================\n",
            "Total params: 16,229\n",
            "Trainable params: 16,229\n",
            "Non-trainable params: 0\n",
            "_________________________________________________________________\n"
          ]
        }
      ],
      "source": [
        "model = Sequential([\n",
        "                    Embedding(num_chars , 8 , input_length= max_len - 1 ) ,    \n",
        "                    Conv1D(64 , 5 , strides= 1 , activation= 'tanh' , padding= 'causal') ,\n",
        "                    MaxPool1D(2) ,\n",
        "                    LSTM(32) ,\n",
        "                    Dense(num_chars , activation='softmax')\n",
        "])\n",
        "\n",
        "model.compile(\n",
        "                loss = 'sparse_categorical_crossentropy' ,\n",
        "                optimizer = 'adam' ,\n",
        "                metrics = ['accuracy']\n",
        ")\n",
        "\n",
        "model.summary()"
      ]
    },
    {
      "cell_type": "markdown",
      "metadata": {
        "id": "AyxfeL3Ss7fZ"
      },
      "source": [
        "## Model training"
      ]
    },
    {
      "cell_type": "code",
      "execution_count": 22,
      "metadata": {
        "colab": {
          "base_uri": "https://localhost:8080/"
        },
        "id": "j0Ssl4qupt22",
        "outputId": "58c0b7af-a512-4e93-e2ef-09c783c9bbc6"
      },
      "outputs": [
        {
          "name": "stdout",
          "output_type": "stream",
          "text": [
            "Epoch 1/50\n",
            "2207/2207 - 16s - loss: 2.7385 - accuracy: 0.1898 - val_loss: 2.5719 - val_accuracy: 0.2293 - 16s/epoch - 7ms/step\n",
            "Epoch 2/50\n",
            "2207/2207 - 18s - loss: 2.5306 - accuracy: 0.2354 - val_loss: 2.4763 - val_accuracy: 0.2546 - 18s/epoch - 8ms/step\n",
            "Epoch 3/50\n",
            "2207/2207 - 19s - loss: 2.4633 - accuracy: 0.2542 - val_loss: 2.4313 - val_accuracy: 0.2581 - 19s/epoch - 8ms/step\n",
            "Epoch 4/50\n",
            "2207/2207 - 20s - loss: 2.4194 - accuracy: 0.2648 - val_loss: 2.3910 - val_accuracy: 0.2716 - 20s/epoch - 9ms/step\n",
            "Epoch 5/50\n",
            "2207/2207 - 23s - loss: 2.3839 - accuracy: 0.2746 - val_loss: 2.3659 - val_accuracy: 0.2843 - 23s/epoch - 10ms/step\n",
            "Epoch 6/50\n",
            "2207/2207 - 21s - loss: 2.3542 - accuracy: 0.2835 - val_loss: 2.3402 - val_accuracy: 0.2960 - 21s/epoch - 10ms/step\n",
            "Epoch 7/50\n",
            "2207/2207 - 20s - loss: 2.3273 - accuracy: 0.2930 - val_loss: 2.3247 - val_accuracy: 0.2908 - 20s/epoch - 9ms/step\n",
            "Epoch 8/50\n",
            "2207/2207 - 23s - loss: 2.3033 - accuracy: 0.2991 - val_loss: 2.3068 - val_accuracy: 0.3037 - 23s/epoch - 10ms/step\n",
            "Epoch 9/50\n",
            "2207/2207 - 23s - loss: 2.2814 - accuracy: 0.3067 - val_loss: 2.2996 - val_accuracy: 0.3071 - 23s/epoch - 10ms/step\n",
            "Epoch 10/50\n",
            "2207/2207 - 22s - loss: 2.2618 - accuracy: 0.3133 - val_loss: 2.2821 - val_accuracy: 0.3092 - 22s/epoch - 10ms/step\n",
            "Epoch 11/50\n",
            "2207/2207 - 21s - loss: 2.2425 - accuracy: 0.3210 - val_loss: 2.2635 - val_accuracy: 0.3175 - 21s/epoch - 10ms/step\n",
            "Epoch 12/50\n",
            "2207/2207 - 19s - loss: 2.2259 - accuracy: 0.3252 - val_loss: 2.2571 - val_accuracy: 0.3199 - 19s/epoch - 9ms/step\n",
            "Epoch 13/50\n",
            "2207/2207 - 20s - loss: 2.2089 - accuracy: 0.3310 - val_loss: 2.2493 - val_accuracy: 0.3259 - 20s/epoch - 9ms/step\n",
            "Epoch 14/50\n",
            "2207/2207 - 19s - loss: 2.1941 - accuracy: 0.3372 - val_loss: 2.2397 - val_accuracy: 0.3246 - 19s/epoch - 9ms/step\n",
            "Epoch 15/50\n",
            "2207/2207 - 17s - loss: 2.1797 - accuracy: 0.3419 - val_loss: 2.2290 - val_accuracy: 0.3337 - 17s/epoch - 8ms/step\n",
            "Epoch 16/50\n",
            "2207/2207 - 18s - loss: 2.1664 - accuracy: 0.3473 - val_loss: 2.2235 - val_accuracy: 0.3355 - 18s/epoch - 8ms/step\n",
            "Epoch 17/50\n",
            "2207/2207 - 18s - loss: 2.1531 - accuracy: 0.3510 - val_loss: 2.2179 - val_accuracy: 0.3390 - 18s/epoch - 8ms/step\n",
            "Epoch 18/50\n",
            "2207/2207 - 19s - loss: 2.1424 - accuracy: 0.3554 - val_loss: 2.2138 - val_accuracy: 0.3380 - 19s/epoch - 8ms/step\n",
            "Epoch 19/50\n",
            "2207/2207 - 19s - loss: 2.1304 - accuracy: 0.3588 - val_loss: 2.2060 - val_accuracy: 0.3402 - 19s/epoch - 8ms/step\n",
            "Epoch 20/50\n",
            "2207/2207 - 18s - loss: 2.1202 - accuracy: 0.3624 - val_loss: 2.2091 - val_accuracy: 0.3405 - 18s/epoch - 8ms/step\n",
            "Epoch 21/50\n",
            "2207/2207 - 20s - loss: 2.1101 - accuracy: 0.3667 - val_loss: 2.2001 - val_accuracy: 0.3418 - 20s/epoch - 9ms/step\n",
            "Epoch 22/50\n",
            "2207/2207 - 21s - loss: 2.1003 - accuracy: 0.3688 - val_loss: 2.1968 - val_accuracy: 0.3453 - 21s/epoch - 10ms/step\n",
            "Epoch 23/50\n",
            "2207/2207 - 20s - loss: 2.0909 - accuracy: 0.3720 - val_loss: 2.1923 - val_accuracy: 0.3465 - 20s/epoch - 9ms/step\n",
            "Epoch 24/50\n",
            "2207/2207 - 18s - loss: 2.0820 - accuracy: 0.3736 - val_loss: 2.1907 - val_accuracy: 0.3479 - 18s/epoch - 8ms/step\n",
            "Epoch 25/50\n",
            "2207/2207 - 17s - loss: 2.0744 - accuracy: 0.3778 - val_loss: 2.1876 - val_accuracy: 0.3494 - 17s/epoch - 8ms/step\n",
            "Epoch 26/50\n",
            "2207/2207 - 19s - loss: 2.0665 - accuracy: 0.3795 - val_loss: 2.1895 - val_accuracy: 0.3506 - 19s/epoch - 9ms/step\n",
            "Epoch 27/50\n",
            "2207/2207 - 20s - loss: 2.0603 - accuracy: 0.3814 - val_loss: 2.1867 - val_accuracy: 0.3539 - 20s/epoch - 9ms/step\n",
            "Epoch 28/50\n",
            "2207/2207 - 19s - loss: 2.0523 - accuracy: 0.3832 - val_loss: 2.1846 - val_accuracy: 0.3540 - 19s/epoch - 9ms/step\n",
            "Epoch 29/50\n",
            "2207/2207 - 20s - loss: 2.0460 - accuracy: 0.3848 - val_loss: 2.1825 - val_accuracy: 0.3564 - 20s/epoch - 9ms/step\n",
            "Epoch 30/50\n",
            "2207/2207 - 18s - loss: 2.0396 - accuracy: 0.3877 - val_loss: 2.1871 - val_accuracy: 0.3565 - 18s/epoch - 8ms/step\n",
            "Epoch 31/50\n",
            "2207/2207 - 18s - loss: 2.0337 - accuracy: 0.3889 - val_loss: 2.1816 - val_accuracy: 0.3564 - 18s/epoch - 8ms/step\n",
            "Epoch 32/50\n",
            "2207/2207 - 18s - loss: 2.0279 - accuracy: 0.3916 - val_loss: 2.1782 - val_accuracy: 0.3615 - 18s/epoch - 8ms/step\n",
            "Epoch 33/50\n",
            "2207/2207 - 20s - loss: 2.0211 - accuracy: 0.3942 - val_loss: 2.1818 - val_accuracy: 0.3602 - 20s/epoch - 9ms/step\n",
            "Epoch 34/50\n",
            "2207/2207 - 19s - loss: 2.0156 - accuracy: 0.3948 - val_loss: 2.1830 - val_accuracy: 0.3600 - 19s/epoch - 9ms/step\n",
            "Epoch 35/50\n",
            "2207/2207 - 20s - loss: 2.0110 - accuracy: 0.3981 - val_loss: 2.1816 - val_accuracy: 0.3585 - 20s/epoch - 9ms/step\n"
          ]
        }
      ],
      "source": [
        "a = model.fit ( X_train , Y_train , validation_data = (X_test,Y_test) , epochs = 50 , verbose = 2 , \n",
        "                callbacks= [EarlyStopping(monitor='val_accuracy' , patience = 3)])"
      ]
    },
    {
      "cell_type": "code",
      "execution_count": 23,
      "metadata": {
        "colab": {
          "base_uri": "https://localhost:8080/",
          "height": 265
        },
        "id": "3V2VhpL1dHw3",
        "outputId": "f7fe10ad-14c3-4723-db78-56a47cba7541"
      },
      "outputs": [
        {
          "data": {
            "image/png": "[encoded data removed]",
            "text/plain": [
              "<Figure size 432x288 with 1 Axes>"
            ]
          },
          "metadata": {
            "needs_background": "light"
          },
          "output_type": "display_data"
        }
      ],
      "source": [
        "epochs_ran = len(a.history['loss'])\n",
        "\n",
        "plt.plot(range(0, epochs_ran) , a.history['val_accuracy'] , label = 'Validation')\n",
        "plt.plot(range(0, epochs_ran) , a.history['accuracy'] , label = 'Training')\n",
        "plt.legend()\n",
        "plt.show()"
      ]
    },
    {
      "cell_type": "markdown",
      "metadata": {
        "id": "5v1BPWJxs7fZ"
      },
      "source": [
        "# Generating Names"
      ]
    },
    {
      "cell_type": "code",
      "execution_count": 24,
      "metadata": {
        "id": "9f50aTRcpt24"
      },
      "outputs": [],
      "source": [
        "def generate_name(seed):\n",
        "    for i in range(40):\n",
        "        seq = name_to_seq(seed)\n",
        "        padded = pad_sequences( [seq] , padding = 'pre' , maxlen = max_len - 1 , truncating = 'pre')\n",
        "        pred = model.predict(padded)[0]\n",
        "        pred_char = index_to_char[np.argmax(pred)]\n",
        "        seed += pred_char\n",
        "\n",
        "        if pred_char == '\\t' :\n",
        "            break\n",
        "\n",
        "    print(seed)"
      ]
    },
    {
      "cell_type": "code",
      "execution_count": 25,
      "metadata": {
        "colab": {
          "base_uri": "https://localhost:8080/"
        },
        "id": "faQ0FInlpt26",
        "outputId": "255dd31c-419d-461b-c1e1-e09aadec0490"
      },
      "outputs": [
        {
          "name": "stdout",
          "output_type": "stream",
          "text": [
            "1/1 [==============================] - 0s 381ms/step\n",
            "1/1 [==============================] - 0s 18ms/step\n",
            "1/1 [==============================] - 0s 19ms/step\n",
            "1/1 [==============================] - 0s 19ms/step\n",
            "1/1 [==============================] - 0s 18ms/step\n",
            "1/1 [==============================] - 0s 20ms/step\n",
            "desail man\t\n"
          ]
        }
      ],
      "source": [
        "generate_name('desai')"
      ]
    },
    {
      "cell_type": "code",
      "execution_count": 26,
      "metadata": {},
      "outputs": [
        {
          "name": "stdout",
          "output_type": "stream",
          "text": [
            "1/1 [==============================] - 0s 22ms/step\n",
            "1/1 [==============================] - 0s 19ms/step\n",
            "1/1 [==============================] - 0s 21ms/step\n",
            "vanate\t\n"
          ]
        }
      ],
      "source": [
        "generate_name('vana')"
      ]
    }
  ],
  "metadata": {
    "accelerator": "GPU",
    "colab": {
      "collapsed_sections": [],
      "name": "Superhero Name Generator.ipynb",
      "provenance": []
    },
    "gpuClass": "standard",
    "kernelspec": {
      "display_name": "Python 3.10.4 64-bit",
      "language": "python",
      "name": "python3"
    },
    "language_info": {
      "codemirror_mode": {
        "name": "ipython",
        "version": 3
      },
      "file_extension": ".py",
      "mimetype": "text/x-python",
      "name": "python",
      "nbconvert_exporter": "python",
      "pygments_lexer": "ipython3",
      "version": "3.10.6"
    },
    "vscode": {
      "interpreter": {
        "hash": "52634da84371cba311ea128a5ea7cdc41ff074b781779e754b270ff9f8153cee"
      }
    }
  },
  "nbformat": 4,
  "nbformat_minor": 0
}
