{
  "cells": [
    {
      "cell_type": "markdown",
      "metadata": {
        "id": "21XXWP7Fpt2L"
      },
      "source": [
        "# Superhero Name Generator"
      ]
    },
    {
      "cell_type": "markdown",
      "metadata": {
        "id": "H6P0NU5Cpt2R"
      },
      "source": [
        "Importing the data and creating a tokenizer"
      ]
    },
    {
      "cell_type": "code",
      "execution_count": 1,
      "metadata": {
        "colab": {
          "base_uri": "https://localhost:8080/",
          "height": 35
        },
        "id": "uq4CLmsLpt2P",
        "outputId": "b240ebe3-b1f8-4361-90f3-6bc450a0a4fc"
      },
      "outputs": [
        {
          "data": {
            "text/plain": [
              "'2.9.1'"
            ]
          },
          "execution_count": 1,
          "metadata": {},
          "output_type": "execute_result"
        }
      ],
      "source": [
        "import tensorflow as tf \n",
        "from matplotlib import pyplot as plt\n",
        "from sklearn.model_selection import train_test_split\n",
        "tf.__version__"
      ]
    },
    {
      "cell_type": "code",
      "execution_count": 2,
      "metadata": {},
      "outputs": [],
      "source": [
        "tf.random.set_seed(42)"
      ]
    },
    {
      "cell_type": "code",
      "execution_count": 3,
      "metadata": {},
      "outputs": [],
      "source": [
        "from tensorflow.keras.preprocessing.text import Tokenizer\n",
        "from tensorflow.keras.preprocessing.sequence import pad_sequences\n",
        "from tensorflow.keras.callbacks import EarlyStopping\n",
        "from tensorflow.keras.models import Sequential\n",
        "from tensorflow.keras.layers import Embedding , Conv1D , MaxPool1D , LSTM , Dense"
      ]
    },
    {
      "cell_type": "code",
      "execution_count": 4,
      "metadata": {
        "colab": {
          "base_uri": "https://localhost:8080/",
          "height": 35
        },
        "id": "JqhtLuAHpt2R",
        "outputId": "23825e8d-2be9-4989-fe34-9afe5ab5d108"
      },
      "outputs": [
        {
          "data": {
            "text/plain": [
              "'jumpa\\t\\ndoctor fate\\t\\nstarlight\\t\\nisildur\\t\\nlasher\\t\\nvarvara\\t\\nthe target\\t\\naxel\\t\\nbattra\\t\\nchangeling\\t\\npyrrh'"
            ]
          },
          "execution_count": 4,
          "metadata": {},
          "output_type": "execute_result"
        }
      ],
      "source": [
        "with open( 'C:/Users/HP/Downloads/GitHub/Super-Hero-Name-Generator/Names.txt' , 'r') as file :\n",
        "    data = file.read()\n",
        "\n",
        "data[:100]"
      ]
    },
    {
      "cell_type": "code",
      "execution_count": 5,
      "metadata": {
        "id": "95Lo1Yqzpt2T"
      },
      "outputs": [],
      "source": [
        "tokenizer = Tokenizer( filters='!\"#$%&()*+,-./:;<=>?@[\\\\]^_`{|}~' , split='\\n' )"
      ]
    },
    {
      "cell_type": "code",
      "execution_count": 6,
      "metadata": {
        "id": "qYfC4sj2pt2V"
      },
      "outputs": [],
      "source": [
        "tokenizer.fit_on_texts(data)"
      ]
    },
    {
      "cell_type": "code",
      "execution_count": 7,
      "metadata": {
        "colab": {
          "base_uri": "https://localhost:8080/"
        },
        "id": "EO4-dPM6pt2X",
        "outputId": "f6a3566f-e008-4c35-a110-88e2f8bf3417"
      },
      "outputs": [
        {
          "data": {
            "text/plain": [
              "{1: '\\t',\n",
              " 2: 'a',\n",
              " 3: 'e',\n",
              " 4: 'r',\n",
              " 5: 'o',\n",
              " 6: 'n',\n",
              " 7: 'i',\n",
              " 8: ' ',\n",
              " 9: 't',\n",
              " 10: 's',\n",
              " 11: 'l',\n",
              " 12: 'm',\n",
              " 13: 'h',\n",
              " 14: 'd',\n",
              " 15: 'c',\n",
              " 16: 'u',\n",
              " 17: 'g',\n",
              " 18: 'k',\n",
              " 19: 'b',\n",
              " 20: 'p',\n",
              " 21: 'y',\n",
              " 22: 'w',\n",
              " 23: 'f',\n",
              " 24: 'v',\n",
              " 25: 'j',\n",
              " 26: 'z',\n",
              " 27: 'x',\n",
              " 28: 'q'}"
            ]
          },
          "execution_count": 7,
          "metadata": {},
          "output_type": "execute_result"
        }
      ],
      "source": [
        "char_to_index = tokenizer.word_index\n",
        "index_to_char = dict((value , key) for key , value in char_to_index.items())\n",
        "\n",
        "index_to_char"
      ]
    },
    {
      "cell_type": "markdown",
      "metadata": {
        "id": "SMwtIw_Bpt2Z"
      },
      "source": [
        "## Converting between names and sequences"
      ]
    },
    {
      "cell_type": "code",
      "execution_count": 8,
      "metadata": {
        "colab": {
          "base_uri": "https://localhost:8080/"
        },
        "id": "N7iQLIXzpt2a",
        "outputId": "ea4c530b-165d-4d1d-9e16-d9846a7ddd25"
      },
      "outputs": [
        {
          "data": {
            "text/plain": [
              "['jumpa\\t',\n",
              " 'doctor fate\\t',\n",
              " 'starlight\\t',\n",
              " 'isildur\\t',\n",
              " 'lasher\\t',\n",
              " 'varvara\\t',\n",
              " 'the target\\t',\n",
              " 'axel\\t',\n",
              " 'battra\\t',\n",
              " 'changeling\\t']"
            ]
          },
          "execution_count": 8,
          "metadata": {},
          "output_type": "execute_result"
        }
      ],
      "source": [
        "names = data.splitlines()\n",
        "names[:10]"
      ]
    },
    {
      "cell_type": "code",
      "execution_count": 9,
      "metadata": {
        "colab": {
          "base_uri": "https://localhost:8080/"
        },
        "id": "n_-TTfqipt2c",
        "outputId": "7e886014-3dff-406c-c000-9139e13f2a62"
      },
      "outputs": [
        {
          "data": {
            "text/plain": [
              "[[25], [16], [12], [20], [2], [1]]"
            ]
          },
          "execution_count": 9,
          "metadata": {},
          "output_type": "execute_result"
        }
      ],
      "source": [
        "tokenizer.texts_to_sequences(names[0])"
      ]
    },
    {
      "cell_type": "code",
      "execution_count": 10,
      "metadata": {
        "id": "P6IsKH1Upt2e"
      },
      "outputs": [],
      "source": [
        "def name_to_seq(name):\n",
        "    return [tokenizer.texts_to_sequences(c)[0][0] for c in name]"
      ]
    },
    {
      "cell_type": "code",
      "execution_count": 11,
      "metadata": {
        "colab": {
          "base_uri": "https://localhost:8080/"
        },
        "id": "TuLUiMP3pt2g",
        "outputId": "0f9e6522-1642-493c-9db4-6b5672986275"
      },
      "outputs": [
        {
          "data": {
            "text/plain": [
              "[25, 16, 12, 20, 2, 1]"
            ]
          },
          "execution_count": 11,
          "metadata": {},
          "output_type": "execute_result"
        }
      ],
      "source": [
        "name_to_seq(names[0])"
      ]
    },
    {
      "cell_type": "code",
      "execution_count": 12,
      "metadata": {
        "id": "yFUYhimKpt2h"
      },
      "outputs": [],
      "source": [
        "def seq_to_name(seq):\n",
        "    return ''.join([index_to_char[i] for i in seq if i != 0])"
      ]
    },
    {
      "cell_type": "code",
      "execution_count": 13,
      "metadata": {
        "colab": {
          "base_uri": "https://localhost:8080/",
          "height": 35
        },
        "id": "o21y7uSDxhPj",
        "outputId": "0ffebbba-a435-4f2f-d592-2f4d3f433ef6"
      },
      "outputs": [
        {
          "data": {
            "text/plain": [
              "'jumpa\\t'"
            ]
          },
          "execution_count": 13,
          "metadata": {},
          "output_type": "execute_result"
        }
      ],
      "source": [
        "seq_to_name(name_to_seq(names[0]))"
      ]
    },
    {
      "cell_type": "markdown",
      "metadata": {
        "id": "uCbAzsNjpt2m"
      },
      "source": [
        "## Creating sequences and padding all sequences"
      ]
    },
    {
      "cell_type": "code",
      "execution_count": 14,
      "metadata": {
        "id": "zstNn-0dpt2m"
      },
      "outputs": [],
      "source": [
        "sequences = []\n",
        "\n",
        "for name in names :\n",
        "    seq = name_to_seq(name)\n",
        "    if len(seq) >= 2 :\n",
        "        sequences += [seq[:i] for i in range(2 , len(seq) + 1)]"
      ]
    },
    {
      "cell_type": "code",
      "execution_count": 15,
      "metadata": {
        "colab": {
          "base_uri": "https://localhost:8080/"
        },
        "id": "BjRTMysvpt2o",
        "outputId": "456229f1-02ff-4969-a3b2-63a70556212d"
      },
      "outputs": [
        {
          "data": {
            "text/plain": [
              "[[25, 16],\n",
              " [25, 16, 12],\n",
              " [25, 16, 12, 20],\n",
              " [25, 16, 12, 20, 2],\n",
              " [25, 16, 12, 20, 2, 1],\n",
              " [14, 5],\n",
              " [14, 5, 15],\n",
              " [14, 5, 15, 9],\n",
              " [14, 5, 15, 9, 5],\n",
              " [14, 5, 15, 9, 5, 4]]"
            ]
          },
          "execution_count": 15,
          "metadata": {},
          "output_type": "execute_result"
        }
      ],
      "source": [
        "sequences[:10]"
      ]
    },
    {
      "cell_type": "code",
      "execution_count": 16,
      "metadata": {
        "colab": {
          "base_uri": "https://localhost:8080/"
        },
        "id": "SR68pu2tpt2q",
        "outputId": "11e8d3f0-44e2-4dfe-b07b-0cfef05a822a"
      },
      "outputs": [
        {
          "data": {
            "text/plain": [
              "33"
            ]
          },
          "execution_count": 16,
          "metadata": {},
          "output_type": "execute_result"
        }
      ],
      "source": [
        "max_len = max([len(x) for x in sequences])\n",
        "max_len"
      ]
    },
    {
      "cell_type": "code",
      "execution_count": 17,
      "metadata": {
        "colab": {
          "base_uri": "https://localhost:8080/"
        },
        "id": "h_1BtWO7pt2r",
        "outputId": "8d4e9021-051e-4d07-bee9-ce6f75e2701f"
      },
      "outputs": [
        {
          "data": {
            "text/plain": [
              "array([ 0,  0,  0,  0,  0,  0,  0,  0,  0,  0,  0,  0,  0,  0,  0,  0,  0,\n",
              "        0,  0,  0,  0,  0,  0,  0,  0,  0,  0,  0,  0,  0,  0, 25, 16])"
            ]
          },
          "execution_count": 17,
          "metadata": {},
          "output_type": "execute_result"
        }
      ],
      "source": [
        "padded_sequences = pad_sequences( sequences , padding = 'pre' , maxlen = max_len )\n",
        "\n",
        "padded_sequences[0]"
      ]
    },
    {
      "cell_type": "code",
      "execution_count": 18,
      "metadata": {
        "colab": {
          "base_uri": "https://localhost:8080/"
        },
        "id": "sPlrLRpSpt2t",
        "outputId": "4d67406d-4f80-4310-ed6d-a32e24822cf4"
      },
      "outputs": [
        {
          "data": {
            "text/plain": [
              "(88278, 33)"
            ]
          },
          "execution_count": 18,
          "metadata": {},
          "output_type": "execute_result"
        }
      ],
      "source": [
        "padded_sequences.shape"
      ]
    },
    {
      "cell_type": "markdown",
      "metadata": {
        "id": "Dqph3kRFs7fY"
      },
      "source": [
        "## Creating Training and Test Sets"
      ]
    },
    {
      "cell_type": "code",
      "execution_count": 19,
      "metadata": {
        "colab": {
          "base_uri": "https://localhost:8080/"
        },
        "id": "BE4BIeSnpt2v",
        "outputId": "7a14a664-591b-4565-a16e-40363fd08861"
      },
      "outputs": [
        {
          "data": {
            "text/plain": [
              "[(88278, 32), (88278,)]"
            ]
          },
          "execution_count": 19,
          "metadata": {},
          "output_type": "execute_result"
        }
      ],
      "source": [
        "x , y = padded_sequences[:,:-1] , padded_sequences[:,-1]\n",
        "[x.shape , y.shape]"
      ]
    },
    {
      "cell_type": "code",
      "execution_count": 20,
      "metadata": {
        "colab": {
          "base_uri": "https://localhost:8080/"
        },
        "id": "q_9B5HKFs7fZ",
        "outputId": "fb2ebda2-01fd-431c-a533-1bb72a5ee428"
      },
      "outputs": [
        {
          "data": {
            "text/plain": [
              "[(70622, 32), (70622,), (17656, 32), (17656,)]"
            ]
          },
          "execution_count": 20,
          "metadata": {},
          "output_type": "execute_result"
        }
      ],
      "source": [
        "X_train , X_test , Y_train , Y_test = train_test_split(x , y , train_size= 0.8 , random_state= 4)\n",
        "\n",
        "[X_train.shape,Y_train.shape,X_test.shape,Y_test.shape]"
      ]
    },
    {
      "cell_type": "code",
      "execution_count": 21,
      "metadata": {
        "colab": {
          "base_uri": "https://localhost:8080/"
        },
        "id": "cgqRZtqnpt2x",
        "outputId": "5b55cb0b-1b3c-454b-91af-2ba1a91141b8"
      },
      "outputs": [
        {
          "data": {
            "text/plain": [
              "29"
            ]
          },
          "execution_count": 21,
          "metadata": {},
          "output_type": "execute_result"
        }
      ],
      "source": [
        "num_chars = len(char_to_index.keys()) + 1\n",
        "num_chars"
      ]
    },
    {
      "cell_type": "markdown",
      "metadata": {
        "id": "9qN3gIoys7fZ"
      },
      "source": [
        "## Model Creating"
      ]
    },
    {
      "cell_type": "code",
      "execution_count": 22,
      "metadata": {
        "colab": {
          "base_uri": "https://localhost:8080/"
        },
        "id": "IYkyHBTbs7fZ",
        "outputId": "c32c20d0-a801-4dfe-b2a9-a66adad4b406"
      },
      "outputs": [
        {
          "name": "stdout",
          "output_type": "stream",
          "text": [
            "Model: \"sequential\"\n",
            "_________________________________________________________________\n",
            " Layer (type)                Output Shape              Param #   \n",
            "=================================================================\n",
            " embedding (Embedding)       (None, 32, 8)             232       \n",
            "                                                                 \n",
            " conv1d (Conv1D)             (None, 32, 64)            2624      \n",
            "                                                                 \n",
            " max_pooling1d (MaxPooling1D  (None, 16, 64)           0         \n",
            " )                                                               \n",
            "                                                                 \n",
            " lstm (LSTM)                 (None, 32)                12416     \n",
            "                                                                 \n",
            " dense (Dense)               (None, 29)                957       \n",
            "                                                                 \n",
            "=================================================================\n",
            "Total params: 16,229\n",
            "Trainable params: 16,229\n",
            "Non-trainable params: 0\n",
            "_________________________________________________________________\n"
          ]
        }
      ],
      "source": [
        "model = Sequential([\n",
        "                    Embedding(num_chars , 8 , input_length= max_len - 1 ) ,    \n",
        "                    Conv1D(64 , 5 , strides= 1 , activation= 'tanh' , padding= 'causal') ,\n",
        "                    MaxPool1D(2) ,\n",
        "                    LSTM(32) ,\n",
        "                    Dense(num_chars , activation='softmax')\n",
        "])\n",
        "\n",
        "model.compile(\n",
        "                loss = 'sparse_categorical_crossentropy' ,\n",
        "                optimizer = 'adam' ,\n",
        "                metrics = ['accuracy']\n",
        ")\n",
        "\n",
        "model.summary()"
      ]
    },
    {
      "cell_type": "markdown",
      "metadata": {
        "id": "AyxfeL3Ss7fZ"
      },
      "source": [
        "## Model training"
      ]
    },
    {
      "cell_type": "code",
      "execution_count": 23,
      "metadata": {
        "colab": {
          "base_uri": "https://localhost:8080/"
        },
        "id": "j0Ssl4qupt22",
        "outputId": "58c0b7af-a512-4e93-e2ef-09c783c9bbc6"
      },
      "outputs": [
        {
          "name": "stdout",
          "output_type": "stream",
          "text": [
            "Epoch 1/50\n",
            "2207/2207 - 18s - loss: 2.7273 - accuracy: 0.1925 - val_loss: 2.5723 - val_accuracy: 0.2363 - 18s/epoch - 8ms/step\n",
            "Epoch 2/50\n",
            "2207/2207 - 18s - loss: 2.5306 - accuracy: 0.2382 - val_loss: 2.4712 - val_accuracy: 0.2564 - 18s/epoch - 8ms/step\n",
            "Epoch 3/50\n",
            "2207/2207 - 18s - loss: 2.4539 - accuracy: 0.2605 - val_loss: 2.4187 - val_accuracy: 0.2698 - 18s/epoch - 8ms/step\n",
            "Epoch 4/50\n",
            "2207/2207 - 18s - loss: 2.4043 - accuracy: 0.2735 - val_loss: 2.3810 - val_accuracy: 0.2838 - 18s/epoch - 8ms/step\n",
            "Epoch 5/50\n",
            "2207/2207 - 18s - loss: 2.3680 - accuracy: 0.2842 - val_loss: 2.3521 - val_accuracy: 0.2894 - 18s/epoch - 8ms/step\n",
            "Epoch 6/50\n",
            "2207/2207 - 18s - loss: 2.3362 - accuracy: 0.2932 - val_loss: 2.3286 - val_accuracy: 0.2951 - 18s/epoch - 8ms/step\n",
            "Epoch 7/50\n",
            "2207/2207 - 17s - loss: 2.3076 - accuracy: 0.3007 - val_loss: 2.3044 - val_accuracy: 0.3051 - 17s/epoch - 8ms/step\n",
            "Epoch 8/50\n",
            "2207/2207 - 18s - loss: 2.2820 - accuracy: 0.3090 - val_loss: 2.2869 - val_accuracy: 0.3156 - 18s/epoch - 8ms/step\n",
            "Epoch 9/50\n",
            "2207/2207 - 19s - loss: 2.2595 - accuracy: 0.3164 - val_loss: 2.2759 - val_accuracy: 0.3143 - 19s/epoch - 9ms/step\n",
            "Epoch 10/50\n",
            "2207/2207 - 18s - loss: 2.2386 - accuracy: 0.3248 - val_loss: 2.2593 - val_accuracy: 0.3245 - 18s/epoch - 8ms/step\n",
            "Epoch 11/50\n",
            "2207/2207 - 18s - loss: 2.2194 - accuracy: 0.3294 - val_loss: 2.2471 - val_accuracy: 0.3264 - 18s/epoch - 8ms/step\n",
            "Epoch 12/50\n",
            "2207/2207 - 18s - loss: 2.2028 - accuracy: 0.3327 - val_loss: 2.2420 - val_accuracy: 0.3316 - 18s/epoch - 8ms/step\n",
            "Epoch 13/50\n",
            "2207/2207 - 18s - loss: 2.1859 - accuracy: 0.3397 - val_loss: 2.2287 - val_accuracy: 0.3325 - 18s/epoch - 8ms/step\n",
            "Epoch 14/50\n",
            "2207/2207 - 18s - loss: 2.1711 - accuracy: 0.3437 - val_loss: 2.2217 - val_accuracy: 0.3300 - 18s/epoch - 8ms/step\n",
            "Epoch 15/50\n",
            "2207/2207 - 18s - loss: 2.1578 - accuracy: 0.3469 - val_loss: 2.2140 - val_accuracy: 0.3352 - 18s/epoch - 8ms/step\n",
            "Epoch 16/50\n",
            "2207/2207 - 18s - loss: 2.1452 - accuracy: 0.3494 - val_loss: 2.2056 - val_accuracy: 0.3382 - 18s/epoch - 8ms/step\n",
            "Epoch 17/50\n",
            "2207/2207 - 18s - loss: 2.1332 - accuracy: 0.3538 - val_loss: 2.2060 - val_accuracy: 0.3365 - 18s/epoch - 8ms/step\n",
            "Epoch 18/50\n",
            "2207/2207 - 18s - loss: 2.1213 - accuracy: 0.3565 - val_loss: 2.1964 - val_accuracy: 0.3416 - 18s/epoch - 8ms/step\n",
            "Epoch 19/50\n",
            "2207/2207 - 18s - loss: 2.1110 - accuracy: 0.3596 - val_loss: 2.1942 - val_accuracy: 0.3430 - 18s/epoch - 8ms/step\n",
            "Epoch 20/50\n",
            "2207/2207 - 18s - loss: 2.1003 - accuracy: 0.3638 - val_loss: 2.1926 - val_accuracy: 0.3424 - 18s/epoch - 8ms/step\n",
            "Epoch 21/50\n",
            "2207/2207 - 21s - loss: 2.0913 - accuracy: 0.3671 - val_loss: 2.1859 - val_accuracy: 0.3482 - 21s/epoch - 9ms/step\n",
            "Epoch 22/50\n",
            "2207/2207 - 43s - loss: 2.0816 - accuracy: 0.3712 - val_loss: 2.1806 - val_accuracy: 0.3499 - 43s/epoch - 19ms/step\n",
            "Epoch 23/50\n",
            "2207/2207 - 43s - loss: 2.0723 - accuracy: 0.3730 - val_loss: 2.1821 - val_accuracy: 0.3501 - 43s/epoch - 19ms/step\n",
            "Epoch 24/50\n",
            "2207/2207 - 16s - loss: 2.0641 - accuracy: 0.3776 - val_loss: 2.1757 - val_accuracy: 0.3530 - 16s/epoch - 7ms/step\n",
            "Epoch 25/50\n",
            "2207/2207 - 16s - loss: 2.0557 - accuracy: 0.3802 - val_loss: 2.1725 - val_accuracy: 0.3557 - 16s/epoch - 7ms/step\n",
            "Epoch 26/50\n",
            "2207/2207 - 18s - loss: 2.0485 - accuracy: 0.3824 - val_loss: 2.1763 - val_accuracy: 0.3545 - 18s/epoch - 8ms/step\n",
            "Epoch 27/50\n",
            "2207/2207 - 18s - loss: 2.0417 - accuracy: 0.3861 - val_loss: 2.1695 - val_accuracy: 0.3566 - 18s/epoch - 8ms/step\n",
            "Epoch 28/50\n",
            "2207/2207 - 22s - loss: 2.0346 - accuracy: 0.3892 - val_loss: 2.1676 - val_accuracy: 0.3571 - 22s/epoch - 10ms/step\n",
            "Epoch 29/50\n",
            "2207/2207 - 21s - loss: 2.0282 - accuracy: 0.3897 - val_loss: 2.1704 - val_accuracy: 0.3564 - 21s/epoch - 9ms/step\n",
            "Epoch 30/50\n",
            "2207/2207 - 20s - loss: 2.0220 - accuracy: 0.3923 - val_loss: 2.1686 - val_accuracy: 0.3587 - 20s/epoch - 9ms/step\n",
            "Epoch 31/50\n",
            "2207/2207 - 18s - loss: 2.0166 - accuracy: 0.3950 - val_loss: 2.1647 - val_accuracy: 0.3595 - 18s/epoch - 8ms/step\n",
            "Epoch 32/50\n",
            "2207/2207 - 18s - loss: 2.0111 - accuracy: 0.3955 - val_loss: 2.1729 - val_accuracy: 0.3570 - 18s/epoch - 8ms/step\n",
            "Epoch 33/50\n",
            "2207/2207 - 19s - loss: 2.0061 - accuracy: 0.3994 - val_loss: 2.1671 - val_accuracy: 0.3538 - 19s/epoch - 9ms/step\n",
            "Epoch 34/50\n",
            "2207/2207 - 20s - loss: 2.0009 - accuracy: 0.3995 - val_loss: 2.1663 - val_accuracy: 0.3600 - 20s/epoch - 9ms/step\n",
            "Epoch 35/50\n",
            "2207/2207 - 20s - loss: 1.9949 - accuracy: 0.4023 - val_loss: 2.1713 - val_accuracy: 0.3593 - 20s/epoch - 9ms/step\n",
            "Epoch 36/50\n",
            "2207/2207 - 19s - loss: 1.9904 - accuracy: 0.4029 - val_loss: 2.1689 - val_accuracy: 0.3600 - 19s/epoch - 8ms/step\n",
            "Epoch 37/50\n",
            "2207/2207 - 18s - loss: 1.9862 - accuracy: 0.4045 - val_loss: 2.1648 - val_accuracy: 0.3621 - 18s/epoch - 8ms/step\n",
            "Epoch 38/50\n",
            "2207/2207 - 18s - loss: 1.9807 - accuracy: 0.4070 - val_loss: 2.1672 - val_accuracy: 0.3609 - 18s/epoch - 8ms/step\n",
            "Epoch 39/50\n",
            "2207/2207 - 18s - loss: 1.9777 - accuracy: 0.4073 - val_loss: 2.1632 - val_accuracy: 0.3655 - 18s/epoch - 8ms/step\n",
            "Epoch 40/50\n",
            "2207/2207 - 19s - loss: 1.9729 - accuracy: 0.4086 - val_loss: 2.1677 - val_accuracy: 0.3619 - 19s/epoch - 8ms/step\n",
            "Epoch 41/50\n",
            "2207/2207 - 18s - loss: 1.9695 - accuracy: 0.4098 - val_loss: 2.1673 - val_accuracy: 0.3608 - 18s/epoch - 8ms/step\n",
            "Epoch 42/50\n",
            "2207/2207 - 19s - loss: 1.9656 - accuracy: 0.4117 - val_loss: 2.1644 - val_accuracy: 0.3642 - 19s/epoch - 9ms/step\n"
          ]
        }
      ],
      "source": [
        "a = model.fit ( X_train , Y_train , validation_data = (X_test,Y_test) , epochs = 50 , verbose = 2 , \n",
        "                callbacks= [EarlyStopping(monitor='val_accuracy' , patience = 3)])"
      ]
    },
    {
      "cell_type": "code",
      "execution_count": 24,
      "metadata": {
        "colab": {
          "base_uri": "https://localhost:8080/",
          "height": 265
        },
        "id": "3V2VhpL1dHw3",
        "outputId": "f7fe10ad-14c3-4723-db78-56a47cba7541"
      },
      "outputs": [
        {
          "data": {
            "image/png": "[encoded data removed]",
            "text/plain": [
              "<Figure size 432x288 with 1 Axes>"
            ]
          },
          "metadata": {
            "needs_background": "light"
          },
          "output_type": "display_data"
        }
      ],
      "source": [
        "epochs_ran = len(a.history['loss'])\n",
        "\n",
        "plt.plot(range(0, epochs_ran) , a.history['val_accuracy'] , label = 'Validation')\n",
        "plt.plot(range(0, epochs_ran) , a.history['accuracy'] , label = 'Training')\n",
        "plt.legend()\n",
        "plt.show()"
      ]
    },
    {
      "cell_type": "markdown",
      "metadata": {
        "id": "5v1BPWJxs7fZ"
      },
      "source": [
        "# Generating Names"
      ]
    },
    {
      "cell_type": "code",
      "execution_count": 25,
      "metadata": {
        "id": "9f50aTRcpt24"
      },
      "outputs": [],
      "source": [
        "def generate_name(seed):\n",
        "    for i in range(40):\n",
        "        seq = name_to_seq(seed)\n",
        "        padded = pad_sequences( [seq] , padding = 'pre' , maxlen = max_len - 1 , truncating = 'pre')\n",
        "        pred = model.predict(padded)[0]\n",
        "        pred_char = index_to_char[tf.argmax(pred).numpy()]\n",
        "        seed += pred_char\n",
        "\n",
        "        if pred_char == '\\t' :\n",
        "            break\n",
        "\n",
        "    print(seed)"
      ]
    },
    {
      "cell_type": "code",
      "execution_count": 26,
      "metadata": {
        "colab": {
          "base_uri": "https://localhost:8080/"
        },
        "id": "faQ0FInlpt26",
        "outputId": "255dd31c-419d-461b-c1e1-e09aadec0490"
      },
      "outputs": [
        {
          "name": "stdout",
          "output_type": "stream",
          "text": [
            "1/1 [==============================] - 0s 365ms/step\n",
            "1/1 [==============================] - 0s 21ms/step\n",
            "1/1 [==============================] - 0s 17ms/step\n",
            "1/1 [==============================] - 0s 17ms/step\n",
            "desaidit\t\n"
          ]
        }
      ],
      "source": [
        "generate_name('desai')"
      ]
    }
  ],
  "metadata": {
    "accelerator": "GPU",
    "colab": {
      "collapsed_sections": [],
      "name": "Superhero Name Generator.ipynb",
      "provenance": []
    },
    "gpuClass": "standard",
    "kernelspec": {
      "display_name": "Python 3.10.4 64-bit",
      "language": "python",
      "name": "python3"
    },
    "language_info": {
      "codemirror_mode": {
        "name": "ipython",
        "version": 3
      },
      "file_extension": ".py",
      "mimetype": "text/x-python",
      "name": "python",
      "nbconvert_exporter": "python",
      "pygments_lexer": "ipython3",
      "version": "3.10.4"
    },
    "vscode": {
      "interpreter": {
        "hash": "52634da84371cba311ea128a5ea7cdc41ff074b781779e754b270ff9f8153cee"
      }
    }
  },
  "nbformat": 4,
  "nbformat_minor": 0
}
